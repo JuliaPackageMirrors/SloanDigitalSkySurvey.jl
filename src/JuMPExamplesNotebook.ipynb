{
 "metadata": {
  "language": "Julia",
  "name": "",
  "signature": "sha256:7b5200922cfc8a2d3dc1429af59cdcb0d19ef666e8e37b1c5b062c408bb613a6"
 },
 "nbformat": 3,
 "nbformat_minor": 0,
 "worksheets": [
  {
   "cells": [
    {
     "cell_type": "code",
     "collapsed": false,
     "input": [
      "using JuMP"
     ],
     "language": "python",
     "metadata": {},
     "outputs": [],
     "prompt_number": 1
    },
    {
     "cell_type": "code",
     "collapsed": false,
     "input": [
      "# Profiling example\n",
      "function DoStuff(n::Int64)\n",
      "    x = 0.0\n",
      "    for i = [n]\n",
      "        x += randn(1) / n\n",
      "    end\n",
      "    x\n",
      "end"
     ],
     "language": "python",
     "metadata": {},
     "outputs": [
      {
       "metadata": {},
       "output_type": "pyout",
       "prompt_number": 2,
       "text": [
        "DoStuff (generic function with 1 method)"
       ]
      }
     ],
     "prompt_number": 2
    },
    {
     "cell_type": "code",
     "collapsed": false,
     "input": [
      "Profile.clear()\n",
      "@profile DoStuff(100000)\n",
      "Profile.retrieve()\n",
      "Profile.print()"
     ],
     "language": "python",
     "metadata": {},
     "outputs": [
      {
       "output_type": "stream",
       "stream": "stdout",
       "text": [
        "1  ...IJulia/src/heartbeat.jl; heartbeat_thread; line: 9\n"
       ]
      },
      {
       "output_type": "stream",
       "stream": "stdout",
       "text": [
        "10 loading.jl; include_string; line: 97\n",
        " 10 profile.jl; anonymous; line: 14\n",
        "  10 In[2]; DoStuff; line: 5\n",
        "   1 ...Julia/src/heartbeat.jl; heartbeat_thread; line: 9\n"
       ]
      }
     ],
     "prompt_number": 3
    },
    {
     "cell_type": "code",
     "collapsed": false,
     "input": [
      "Profile.print(Profile.retrieve())"
     ],
     "language": "python",
     "metadata": {},
     "outputs": [
      {
       "ename": "LoadError",
       "evalue": "`print` has no method matching print(::(Array{Uint64,1},Dict{Uint64,LineInfo}))\nyou may have intended to import Base.print\nwhile loading In[5], in expression starting on line 1",
       "output_type": "pyerr",
       "traceback": [
        "`print` has no method matching print(::(Array{Uint64,1},Dict{Uint64,LineInfo}))\nyou may have intended to import Base.print\nwhile loading In[5], in expression starting on line 1",
        ""
       ]
      }
     ],
     "prompt_number": 5
    },
    {
     "cell_type": "code",
     "collapsed": false,
     "input": [
      "m = Model()\n",
      "big_data = randn(100)\n",
      "@defVar(m, big_parameter)\n",
      "@defNLExpr(big_transform[i=1:100], big_parameter * big_data[i]^2)\n",
      "big_data = -5\n",
      "print(big_transform)\n",
      "print(big_data)\n",
      "solve(m)"
     ],
     "language": "python",
     "metadata": {},
     "outputs": [
      {
       "output_type": "stream",
       "stream": "stdout",
       "text": [
        "ParametricExpression{"
       ]
      },
      {
       "output_type": "stream",
       "stream": "stdout",
       "text": [
        "1}(:(__R##24061##big_parameter * __R##24061##big_data[i]^2),(symbol(\"__R##24061##big_data\"),symbol(\"__R##24061##big_parameter\")),([-1.8775923130099972,-0.2251521873532736,-0.3846485945212275,-1.2836969899647281,-1.261374485709771,1.59247493197428,0.12953045833630644,-1.0675668606006283,0.6205913975597346,0.6638272336757888,-0.9426783885714756,-0.5445298575136333,-1.1356452947322733,0.3082377490375513,0.06807595676534915,-0.9279310438877622,-0.5150054022788164,0.9857808875654586,-0.1816289687143698,0.01918665110704782,-0.0028204526761164395,0.9272973907775638,-0.15442669314418328,0.26590167268585524,0.43802638146885364,-0.7977364091934038,0.27790649422995184,0.9939322647810664,-0.2989171459935315,1.4780616543727534,0.7103799440140471,-0.11079942529626549,-1.765830795081836,-0.9621508005234543,1.5186823978823558,0.5644506052481011,0.014593218879059502,-1.7561428047718437,-0.5412287550231731,-1.4598248708327513,1.4722760105237789,0.12702866242439592,-0.7223949380431466,-0.5412540192782838,-0.4324025608225634,-0.7285613766391307,0.886079462703265,-1.6233008299577338,-1.948479210459203,0.23899821041531227,0.5793561040879655,-0.62415313765074,0.2070314859880953,-0.44861228326769637,-0.7873908383932214,0.00047875985573580355,0.6445312498357945,-0.5511632812517392,-0.3245735376760247,-1.0789953647494792,-1.1591723631088287,0.4442267236941329,0.4420564876265343,0.33783299100129305,-0.23849699114531436,0.5311940600525575,-1.1890410847917012,1.1168613491669939,0.34228395346748675,0.8251911768047322,-0.006656843939840874,-0.5448131745238866,0.490347420038336,1.3500042099476468,0.3642769776759204,-0.46086236165342676,1.0918258720803589,0.3838912268550516,-0.8351429995977238,-1.0406605228001018,0.1585086960836669,-1.29520089988839,-1.7134272615033614,-0.3982192924812964,0.3994748038551392,0.6966440504621414,-0.37277467398973413,1.7597830835884796,0.26802957752592893,0.5510422904571274,-0.6101778696495075,-0.863821922690898,-1.3220148911313152,-1.2767284822493963,-0.37089324043108074,1.2359926803448003,-0.3906006195947515,-1.2086725694532394,1.006973763133228,-0.8031809123542044],big_parameter),(:i,),0xf0e01a708e2152b7)-5"
       ]
      }
     ],
     "prompt_number": 3
    },
    {
     "cell_type": "code",
     "collapsed": false,
     "input": [
      "n = convert(Int64, 1e6)"
     ],
     "language": "python",
     "metadata": {},
     "outputs": [
      {
       "metadata": {},
       "output_type": "pyout",
       "prompt_number": 26,
       "text": [
        "1000000"
       ]
      }
     ],
     "prompt_number": 26
    },
    {
     "cell_type": "code",
     "collapsed": false,
     "input": [
      "x = randn(n)"
     ],
     "language": "python",
     "metadata": {},
     "outputs": [
      {
       "metadata": {},
       "output_type": "pyout",
       "prompt_number": 27,
       "text": [
        "1000000-element Array{Float64,1}:\n",
        "  0.604027 \n",
        " -0.593416 \n",
        " -0.0614943\n",
        "  0.552005 \n",
        "  2.06973  \n",
        "  1.12146  \n",
        "  0.46611  \n",
        "  0.281759 \n",
        "  0.383427 \n",
        "  0.112338 \n",
        "  0.844167 \n",
        " -1.21035  \n",
        " -0.0825509\n",
        "  \u22ee        \n",
        " -1.6476   \n",
        " -0.424664 \n",
        " -0.781674 \n",
        " -0.377396 \n",
        " -1.24232  \n",
        " -0.165685 \n",
        "  0.525496 \n",
        " -0.223467 \n",
        " -0.182942 \n",
        "  0.930359 \n",
        " -0.371625 \n",
        " -0.338636 "
       ]
      }
     ],
     "prompt_number": 27
    },
    {
     "cell_type": "code",
     "collapsed": false,
     "input": [
      "m = Model()\n",
      "@defVar(m, -1 <= alpha <= 1)\n",
      "@defNLExpr(exp_alpha_x[i=1:n], exp(x[i] * alpha))\n",
      "@setNLObjective(m, Min, sum{exp_alpha_x[i], i=1:n})\n",
      "solve(m)\n",
      "getObjectiveValue(m)\n",
      "println(\"alpha = \", getValue(alpha))\n",
      "sum(exp(getValue(alpha) * x))"
     ],
     "language": "python",
     "metadata": {},
     "outputs": [
      {
       "output_type": "stream",
       "stream": "stdout",
       "text": [
        "This is Ipopt version 3.12.1, running with linear solver mumps.\n",
        "NOTE: Other linear solvers might be more efficient (see Ipopt documentation).\n",
        "\n",
        "Number of nonzeros in equality constraint Jacobian...:        0\n",
        "Number of nonzeros in inequality constraint Jacobian.:        0\n",
        "Number of nonzeros in Lagrangian Hessian.............:        1\n",
        "\n",
        "Total number of variables............................:        1\n",
        "                     variables with only lower bounds:        0\n",
        "                variables with lower and upper bounds:        1\n",
        "                     variables with only upper bounds:        0\n",
        "Total number of equality constraints.................:        0\n",
        "Total number of inequality constraints...............:        0\n",
        "        inequality constraints with only lower bounds:        0\n",
        "   inequality constraints with lower and upper bounds:        0\n",
        "        inequality constraints with only upper bounds:        0\n",
        "\n",
        "iter    objective    inf_pr   inf_du lg(mu)  ||d||  lg(rg) alpha_du alpha_pr  ls\n",
        "   0  1.0000000e+06 0.00e+00 1.00e+02  -1.0 0.00e+00    -  0.00e+00 0.00e+00   0\n",
        "   1  9.9999755e+05 0.00e+00 7.46e-04  -1.0 2.21e-03    -  1.00e+00 1.00e+00f  1\n",
        "   2  9.9999755e+05 0.00e+00 3.18e-13  -2.5 1.14e-07    -  1.00e+00 1.00e+00f  1\n",
        "   3  9.9999755e+05 0.00e+00 1.18e-05  -3.8 2.63e-10    -  1.00e+00 3.91e-03f  9\n",
        "   4  9.9999755e+05 0.00e+00 1.25e-05  -5.7 2.77e-10    -  1.00e+00 9.77e-04f 11\n",
        "   5  9.9999755e+05 0.00e+00 1.25e-05  -8.6 2.77e-10    -  1.00e+00 4.88e-04f 12\n",
        "   6  9.9999755e+05 0.00e+00 1.25e-05  -8.6 2.76e-10    -  1.00e+00 2.44e-04f 13\n",
        "   7  9.9999755e+05 0.00e+00 1.25e-05  -8.6 2.76e-10    -  1.00e+00 4.88e-04f 12\n",
        "   8  9.9999755e+05 0.00e+00 1.25e-05  -8.6 2.76e-10    -  1.00e+00 1.22e-04f 14\n",
        "   9  9.9999755e+05 0.00e+00 1.25e-05  -8.6 2.76e-10    -  1.00e+00 4.88e-04f 12\n",
        "iter    objective    inf_pr   inf_du lg(mu)  ||d||  lg(rg) alpha_du alpha_pr  ls\n",
        "  10  9.9999755e+05 0.00e+00 1.25e-05  -8.6 2.76e-10    -  1.00e+00 1.22e-04f 14\n",
        "  11  9.9999755e+05 0.00e+00 1.25e-05  -8.6 2.76e-10    -  1.00e+00 2.44e-04f 13\n",
        "  12  9.9999755e+05 0.00e+00 1.25e-05  -8.6 2.76e-10    -  1.00e+00 2.44e-04f 13\n",
        "  13  9.9999755e+05 0.00e+00 1.25e-05  -8.6 2.76e-10    -  1.00e+00 1.22e-04f 14\n",
        "  14  9.9999755e+05 0.00e+00 1.25e-05  -8.6 2.76e-10    -  1.00e+00 1.22e-04f 14\n",
        "  15  9.9999755e+05 0.00e+00 2.22e-13  -8.6 2.76e-10    -  1.00e+00 1.00e+00w  1\n",
        "\n",
        "Number of Iterations....: 15\n",
        "\n",
        "                                   (scaled)                 (unscaled)\n",
        "Objective...............:   4.5219477092922672e+04    9.9999755129190849e+05\n",
        "Dual infeasibility......:   2.2161750931575349e-13    4.9009183848755873e-12\n",
        "Constraint violation....:   0.0000000000000000e+00    0.0000000000000000e+00\n",
        "Complementarity.........:   2.5059035596800622e-09    5.5416329081035272e-08\n",
        "Overall NLP error.......:   2.5059035596800622e-09    5.5416329081035272e-08\n",
        "\n",
        "\n",
        "Number of objective function evaluations             = 203\n",
        "Number of objective gradient evaluations             = 16\n",
        "Number of equality constraint evaluations            = 0\n",
        "Number of inequality constraint evaluations          = 0\n",
        "Number of equality constraint Jacobian evaluations   = 0\n",
        "Number of inequality constraint Jacobian evaluations = 0\n",
        "Number of Lagrangian Hessian evaluations             = 15\n",
        "Total CPU secs in IPOPT (w/o function evaluations)   =      0.045\n",
        "Total CPU secs in NLP function evaluations           =      5.026\n",
        "\n",
        "EXIT: Optimal Solution Found.\n"
       ]
      },
      {
       "metadata": {},
       "output_type": "pyout",
       "prompt_number": 34,
       "text": [
        ":Optimal"
       ]
      }
     ],
     "prompt_number": 34
    },
    {
     "cell_type": "code",
     "collapsed": false,
     "input": [],
     "language": "python",
     "metadata": {},
     "outputs": [
      {
       "output_type": "stream",
       "stream": "stdout",
       "text": [
        "alpha = -"
       ]
      },
      {
       "output_type": "stream",
       "stream": "stdout",
       "text": [
        "0.002214596046193245\n"
       ]
      },
      {
       "metadata": {},
       "output_type": "pyout",
       "prompt_number": 35,
       "text": [
        "999997.5512918778"
       ]
      }
     ],
     "prompt_number": 35
    }
   ],
   "metadata": {}
  }
 ]
}